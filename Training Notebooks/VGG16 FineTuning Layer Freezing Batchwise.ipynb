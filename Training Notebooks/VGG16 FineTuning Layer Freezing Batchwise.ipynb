{
 "cells": [
  {
   "cell_type": "code",
   "execution_count": 1,
   "metadata": {},
   "outputs": [],
   "source": [
    "import os\n",
    "import pandas as pd\n",
    "import pickle\n",
    "import numpy as np\n",
    "import seaborn as sns\n",
    "import secrets\n",
    "import cv2\n",
    "from PIL import Image\n",
    "from PIL import ImageFile\n",
    "from sklearn.datasets import load_files\n",
    "from keras.utils import np_utils\n",
    "import matplotlib.pyplot as plt\n",
    "from keras.layers import Conv2D, MaxPooling2D, GlobalAveragePooling2D\n",
    "from keras.layers import Dropout, Flatten, Dense\n",
    "from keras.models import Sequential\n",
    "from keras.models import Sequential,Model\n",
    "from keras.utils.vis_utils import plot_model\n",
    "from keras.callbacks import ModelCheckpoint\n",
    "from keras.utils import to_categorical\n",
    "from sklearn.metrics import confusion_matrix\n",
    "from keras.preprocessing import image                  \n",
    "from tqdm import tqdm\n",
    "from tensorflow.keras.preprocessing.image import ImageDataGenerator\n",
    "import shutil\n",
    "\n",
    "\n",
    "from PIL import ImageFile   \n",
    "from sklearn.model_selection import train_test_split\n",
    "from keras.preprocessing import image                  \n",
    "from tqdm import tqdm\n",
    "from keras import optimizers\n",
    "from keras.applications.vgg16 import VGG16\n",
    "import seaborn as sns\n",
    "from sklearn.metrics import accuracy_score,precision_score,recall_score,f1_score"
   ]
  },
  {
   "cell_type": "code",
   "execution_count": 2,
   "metadata": {},
   "outputs": [],
   "source": [
    "TEST_DIR = os.path.join(os.getcwd(),\"imgs\",\"test\")\n",
    "TRAIN_DIR = os.path.join(os.getcwd(),\"imgs\",\"train\")\n",
    "MODEL_PATH = os.path.join(os.getcwd(),\"model\",\"vgg16_fine_tuned\")\n",
    "PICKLE_PATH = os.path.join(os.getcwd(),\"pickle\")\n",
    "TEST_CSV = os.path.join(os.getcwd(),\"csv_files\",\"test.csv\")\n",
    "TRAIN_CSV = os.path.join(os.getcwd(),\"csv_files\",\"train.csv\")"
   ]
  },
  {
   "cell_type": "code",
   "execution_count": 3,
   "metadata": {},
   "outputs": [],
   "source": [
    "if not os.path.exists(TEST_DIR):\n",
    "    print(\"Testing data does not exists\")\n",
    "if not os.path.exists(TRAIN_DIR):\n",
    "    print(\"Training data does not exists\")\n",
    "if not os.path.exists(MODEL_PATH):\n",
    "    print(\"Model path does not exists\")\n",
    "    os.makedirs(MODEL_PATH)\n",
    "    print(\"Model path created\")\n",
    "else:\n",
    "    shutil.rmtree(MODEL_PATH)\n",
    "    os.makedirs(MODEL_PATH)\n",
    "if not os.path.exists(PICKLE_PATH):\n",
    "    os.makedirs(PICKLE_PATH)"
   ]
  },
  {
   "cell_type": "markdown",
   "metadata": {},
   "source": [
    "# DATA PREPARATION"
   ]
  },
  {
   "cell_type": "code",
   "execution_count": 4,
   "metadata": {},
   "outputs": [],
   "source": [
    "# Setting the data augmentation definition\n",
    "\n",
    "gen_per_image = 1\n",
    "gen_per_class = 200\n",
    "rotation_range = 5\n",
    "width_shift_range = 0.02\n",
    "height_shift_range = 0.02\n",
    "shear_range = 0.01\n",
    "zoom_range = 0.05\n",
    "horizontal_flip = False\n",
    "fill_mode = \"nearest\""
   ]
  },
  {
   "cell_type": "code",
   "execution_count": 5,
   "metadata": {},
   "outputs": [],
   "source": [
    "\n",
    "height_shift_range = 0.02\n",
    "shear_range = 0.01\n",
    "zoom_range = 0.05\n",
    "horizontal_flip = False\n",
    "fill_mode = \"nearest\"\n",
    "\n",
    "def increase_brightness(img, value):\n",
    "    hsv = cv2.cvtColor(img, cv2.COLOR_BGR2HSV)\n",
    "    h, s, v = cv2.split(hsv)\n",
    "\n",
    "    lim = 255 - value\n",
    "    v[v > lim] = 255\n",
    "    v[v <= lim] += value\n",
    "\n",
    "    final_hsv = cv2.merge((h, s, v))\n",
    "    img = cv2.cvtColor(final_hsv, cv2.COLOR_HSV2BGR)\n",
    "    return img\n",
    "\n",
    "def change_contrast(img, level):\n",
    "    img = Image.fromarray(img.astype('uint8'))\n",
    "    factor = (259 * (level + 255)) / (255 * (259 - level))\n",
    "    def contrast(c):\n",
    "        return 128 + factor * (c - 128)\n",
    "    return np.array(img.point(contrast))\n",
    "\n",
    "def pad_img(img):\n",
    "    h, w = img.shape[:2]\n",
    "    new_h = int((5 + secrets.randbelow(16)) * h / 100) + h\n",
    "    new_w = int((5 + secrets.randbelow(16)) * w / 100) + w\n",
    "\n",
    "    full_sheet = np.ones((new_h, new_w, 3)) * 255\n",
    "\n",
    "    p_X = secrets.randbelow(new_h - img.shape[0])\n",
    "    p_Y = secrets.randbelow(new_w - img.shape[1])\n",
    "\n",
    "    full_sheet[p_X : p_X + img.shape[0], p_Y : p_Y + img.shape[1]] = img\n",
    "\n",
    "    full_sheet = cv2.resize(full_sheet, (w, h), interpolation = cv2.INTER_AREA)\n",
    "\n",
    "    return full_sheet.astype(np.uint8)\n",
    "\n",
    "def preprocess_img(img):\n",
    "    img = np.array(img)\n",
    "\n",
    "    x = secrets.randbelow(2)\n",
    "\n",
    "    if x == 0:\n",
    "        # img = pad_img(img)\n",
    "        img = increase_brightness(img, secrets.randbelow(26))\n",
    "        img = change_contrast(img, secrets.randbelow(51))\n",
    "    else:\n",
    "        # img = pad_img(img)\n",
    "        img = change_contrast(img, secrets.randbelow(51))\n",
    "        img = increase_brightness(img, secrets.randbelow(26))\n",
    "\n",
    "    return img\n"
   ]
  },
  {
   "cell_type": "code",
   "execution_count": 6,
   "metadata": {},
   "outputs": [],
   "source": [
    "BATCH_SIZE = 128\n",
    "IMAGE_SIZE = 224\n",
    "NUM_EPOCHS = 25"
   ]
  },
  {
   "cell_type": "code",
   "execution_count": 7,
   "metadata": {},
   "outputs": [
    {
     "name": "stdout",
     "output_type": "stream",
     "text": [
      "Found 17943 images belonging to 10 classes.\n",
      "Found 4481 images belonging to 10 classes.\n"
     ]
    }
   ],
   "source": [
    "#Initialise the parameters for Augmentation.\n",
    "datagen = ImageDataGenerator(\n",
    "        rotation_range = rotation_range,\n",
    "        width_shift_range = width_shift_range,\n",
    "        height_shift_range = height_shift_range,\n",
    "        shear_range = shear_range,\n",
    "        zoom_range = zoom_range,\n",
    "        horizontal_flip = horizontal_flip,\n",
    "        fill_mode = fill_mode,\n",
    "        validation_split = 0.2,\n",
    "        preprocessing_function = preprocess_img)\n",
    "\n",
    "\n",
    "train_data = datagen.flow_from_directory(TRAIN_DIR,\n",
    "                                        target_size=(IMAGE_SIZE,IMAGE_SIZE),\n",
    "                                        batch_size=BATCH_SIZE,\n",
    "                                        subset='training',shuffle=True)\n",
    "\n",
    "valid_data = datagen.flow_from_directory(TRAIN_DIR,\n",
    "                                        target_size=(IMAGE_SIZE,IMAGE_SIZE),\n",
    "                                        batch_size=BATCH_SIZE,\n",
    "                                        subset='validation',shuffle=True)"
   ]
  },
  {
   "cell_type": "markdown",
   "metadata": {},
   "source": [
    "# Model Architecture"
   ]
  },
  {
   "cell_type": "code",
   "execution_count": 8,
   "metadata": {
    "scrolled": true
   },
   "outputs": [
    {
     "name": "stdout",
     "output_type": "stream",
     "text": [
      "Model: \"vgg16\"\n",
      "_________________________________________________________________\n",
      " Layer (type)                Output Shape              Param #   \n",
      "=================================================================\n",
      " input_1 (InputLayer)        [(None, None, None, 3)]   0         \n",
      "                                                                 \n",
      " block1_conv1 (Conv2D)       (None, None, None, 64)    1792      \n",
      "                                                                 \n",
      " block1_conv2 (Conv2D)       (None, None, None, 64)    36928     \n",
      "                                                                 \n",
      " block1_pool (MaxPooling2D)  (None, None, None, 64)    0         \n",
      "                                                                 \n",
      " block2_conv1 (Conv2D)       (None, None, None, 128)   73856     \n",
      "                                                                 \n",
      " block2_conv2 (Conv2D)       (None, None, None, 128)   147584    \n",
      "                                                                 \n",
      " block2_pool (MaxPooling2D)  (None, None, None, 128)   0         \n",
      "                                                                 \n",
      " block3_conv1 (Conv2D)       (None, None, None, 256)   295168    \n",
      "                                                                 \n",
      " block3_conv2 (Conv2D)       (None, None, None, 256)   590080    \n",
      "                                                                 \n",
      " block3_conv3 (Conv2D)       (None, None, None, 256)   590080    \n",
      "                                                                 \n",
      " block3_pool (MaxPooling2D)  (None, None, None, 256)   0         \n",
      "                                                                 \n",
      " block4_conv1 (Conv2D)       (None, None, None, 512)   1180160   \n",
      "                                                                 \n",
      " block4_conv2 (Conv2D)       (None, None, None, 512)   2359808   \n",
      "                                                                 \n",
      " block4_conv3 (Conv2D)       (None, None, None, 512)   2359808   \n",
      "                                                                 \n",
      " block4_pool (MaxPooling2D)  (None, None, None, 512)   0         \n",
      "                                                                 \n",
      " block5_conv1 (Conv2D)       (None, None, None, 512)   2359808   \n",
      "                                                                 \n",
      " block5_conv2 (Conv2D)       (None, None, None, 512)   2359808   \n",
      "                                                                 \n",
      " block5_conv3 (Conv2D)       (None, None, None, 512)   2359808   \n",
      "                                                                 \n",
      " block5_pool (MaxPooling2D)  (None, None, None, 512)   0         \n",
      "                                                                 \n",
      "=================================================================\n",
      "Total params: 14,714,688\n",
      "Trainable params: 14,714,688\n",
      "Non-trainable params: 0\n",
      "_________________________________________________________________\n"
     ]
    }
   ],
   "source": [
    "model = VGG16(include_top=False)\n",
    "model.summary()"
   ]
  },
  {
   "cell_type": "code",
   "execution_count": 9,
   "metadata": {},
   "outputs": [
    {
     "data": {
      "text/plain": [
       "(None, None, 512)"
      ]
     },
     "execution_count": 9,
     "metadata": {},
     "output_type": "execute_result"
    }
   ],
   "source": [
    "model.output_shape[1:]"
   ]
  },
  {
   "cell_type": "code",
   "execution_count": 10,
   "metadata": {
    "scrolled": true
   },
   "outputs": [
    {
     "name": "stdout",
     "output_type": "stream",
     "text": [
      "Model: \"model\"\n",
      "_________________________________________________________________\n",
      " Layer (type)                Output Shape              Param #   \n",
      "=================================================================\n",
      " input_1 (InputLayer)        [(None, None, None, 3)]   0         \n",
      "                                                                 \n",
      " block1_conv1 (Conv2D)       (None, None, None, 64)    1792      \n",
      "                                                                 \n",
      " block1_conv2 (Conv2D)       (None, None, None, 64)    36928     \n",
      "                                                                 \n",
      " block1_pool (MaxPooling2D)  (None, None, None, 64)    0         \n",
      "                                                                 \n",
      " block2_conv1 (Conv2D)       (None, None, None, 128)   73856     \n",
      "                                                                 \n",
      " block2_conv2 (Conv2D)       (None, None, None, 128)   147584    \n",
      "                                                                 \n",
      " block2_pool (MaxPooling2D)  (None, None, None, 128)   0         \n",
      "                                                                 \n",
      " block3_conv1 (Conv2D)       (None, None, None, 256)   295168    \n",
      "                                                                 \n",
      " block3_conv2 (Conv2D)       (None, None, None, 256)   590080    \n",
      "                                                                 \n",
      " block3_conv3 (Conv2D)       (None, None, None, 256)   590080    \n",
      "                                                                 \n",
      " block3_pool (MaxPooling2D)  (None, None, None, 256)   0         \n",
      "                                                                 \n",
      " block4_conv1 (Conv2D)       (None, None, None, 512)   1180160   \n",
      "                                                                 \n",
      " block4_conv2 (Conv2D)       (None, None, None, 512)   2359808   \n",
      "                                                                 \n",
      " block4_conv3 (Conv2D)       (None, None, None, 512)   2359808   \n",
      "                                                                 \n",
      " block4_pool (MaxPooling2D)  (None, None, None, 512)   0         \n",
      "                                                                 \n",
      " block5_conv1 (Conv2D)       (None, None, None, 512)   2359808   \n",
      "                                                                 \n",
      " block5_conv2 (Conv2D)       (None, None, None, 512)   2359808   \n",
      "                                                                 \n",
      " block5_conv3 (Conv2D)       (None, None, None, 512)   2359808   \n",
      "                                                                 \n",
      " block5_pool (MaxPooling2D)  (None, None, None, 512)   0         \n",
      "                                                                 \n",
      " sequential (Sequential)     (None, 10)                5130      \n",
      "                                                                 \n",
      "=================================================================\n",
      "Total params: 14,719,818\n",
      "Trainable params: 14,719,818\n",
      "Non-trainable params: 0\n",
      "_________________________________________________________________\n"
     ]
    }
   ],
   "source": [
    "vgg16_model_fine_tuned = Sequential()\n",
    "vgg16_model_fine_tuned.add(GlobalAveragePooling2D(input_shape=model.output_shape[1:]))\n",
    "vgg16_model_fine_tuned.add(Dense(10, activation='softmax', kernel_initializer='glorot_normal'))\n",
    "vgg16_model_fine_tuned = Model(inputs = model.input, outputs = vgg16_model_fine_tuned(model.output))\n",
    "\n",
    "vgg16_model_fine_tuned.summary()"
   ]
  },
  {
   "cell_type": "code",
   "execution_count": 11,
   "metadata": {},
   "outputs": [],
   "source": [
    "for layer in vgg16_model_fine_tuned.layers[:15]:\n",
    "    layer.trainable = False"
   ]
  },
  {
   "cell_type": "code",
   "execution_count": 12,
   "metadata": {},
   "outputs": [],
   "source": [
    "vgg16_model_fine_tuned.compile(loss='categorical_crossentropy',optimizer=optimizers.SGD(learning_rate=1e-4, momentum=0.9),metrics=['accuracy'])"
   ]
  },
  {
   "cell_type": "code",
   "execution_count": 13,
   "metadata": {},
   "outputs": [
    {
     "name": "stdout",
     "output_type": "stream",
     "text": [
      "WARNING:tensorflow:`period` argument is deprecated. Please use `save_freq` to specify the frequency in number of batches seen.\n"
     ]
    }
   ],
   "source": [
    "filepath = os.path.join(MODEL_PATH,\"distracted-{epoch:02d}-{val_accuracy:.2f}.hdf5\")\n",
    "checkpoint = ModelCheckpoint(filepath, monitor='val_accuracy', verbose=1, save_best_only=True,mode='max',period=1)\n",
    "callbacks_list = [checkpoint]"
   ]
  },
  {
   "cell_type": "code",
   "execution_count": 14,
   "metadata": {},
   "outputs": [
    {
     "name": "stdout",
     "output_type": "stream",
     "text": [
      "Epoch 1/25\n"
     ]
    },
    {
     "name": "stderr",
     "output_type": "stream",
     "text": [
      "2023-02-01 10:57:57.714174: W tensorflow/tsl/platform/profile_utils/cpu_utils.cc:128] Failed to get CPU frequency: 0 Hz\n"
     ]
    },
    {
     "name": "stdout",
     "output_type": "stream",
     "text": [
      "141/141 [==============================] - ETA: 0s - loss: 2.5336 - accuracy: 0.1509\n",
      "Epoch 1: val_accuracy improved from -inf to 0.22785, saving model to /Users/abhjha8/ml_projects/DistractedDriverDetection/model/vgg16_fine_tuned/distracted-01-0.23.hdf5\n",
      "141/141 [==============================] - 1549s 11s/step - loss: 2.5336 - accuracy: 0.1509 - val_loss: 2.1454 - val_accuracy: 0.2279\n",
      "Epoch 2/25\n",
      "141/141 [==============================] - ETA: 0s - loss: 1.7481 - accuracy: 0.4128\n",
      "Epoch 2: val_accuracy improved from 0.22785 to 0.63111, saving model to /Users/abhjha8/ml_projects/DistractedDriverDetection/model/vgg16_fine_tuned/distracted-02-0.63.hdf5\n",
      "141/141 [==============================] - 1586s 11s/step - loss: 1.7481 - accuracy: 0.4128 - val_loss: 1.1914 - val_accuracy: 0.6311\n",
      "Epoch 3/25\n",
      "141/141 [==============================] - ETA: 0s - loss: 0.7981 - accuracy: 0.7565\n",
      "Epoch 3: val_accuracy improved from 0.63111 to 0.84044, saving model to /Users/abhjha8/ml_projects/DistractedDriverDetection/model/vgg16_fine_tuned/distracted-03-0.84.hdf5\n",
      "141/141 [==============================] - 1549s 11s/step - loss: 0.7981 - accuracy: 0.7565 - val_loss: 0.5125 - val_accuracy: 0.8404\n",
      "Epoch 4/25\n",
      "141/141 [==============================] - ETA: 0s - loss: 0.4003 - accuracy: 0.8860\n",
      "Epoch 4: val_accuracy improved from 0.84044 to 0.91944, saving model to /Users/abhjha8/ml_projects/DistractedDriverDetection/model/vgg16_fine_tuned/distracted-04-0.92.hdf5\n",
      "141/141 [==============================] - 1571s 11s/step - loss: 0.4003 - accuracy: 0.8860 - val_loss: 0.2982 - val_accuracy: 0.9194\n",
      "Epoch 5/25\n",
      "141/141 [==============================] - ETA: 0s - loss: 0.2428 - accuracy: 0.9322 \n",
      "Epoch 5: val_accuracy improved from 0.91944 to 0.93997, saving model to /Users/abhjha8/ml_projects/DistractedDriverDetection/model/vgg16_fine_tuned/distracted-05-0.94.hdf5\n",
      "141/141 [==============================] - 1813s 13s/step - loss: 0.2428 - accuracy: 0.9322 - val_loss: 0.2189 - val_accuracy: 0.9400\n",
      "Epoch 6/25\n",
      "141/141 [==============================] - ETA: 0s - loss: 0.1775 - accuracy: 0.9541\n",
      "Epoch 6: val_accuracy improved from 0.93997 to 0.95916, saving model to /Users/abhjha8/ml_projects/DistractedDriverDetection/model/vgg16_fine_tuned/distracted-06-0.96.hdf5\n",
      "141/141 [==============================] - 1548s 11s/step - loss: 0.1775 - accuracy: 0.9541 - val_loss: 0.1570 - val_accuracy: 0.9592\n",
      "Epoch 7/25\n",
      "141/141 [==============================] - ETA: 0s - loss: 0.1411 - accuracy: 0.9619\n",
      "Epoch 7: val_accuracy improved from 0.95916 to 0.96407, saving model to /Users/abhjha8/ml_projects/DistractedDriverDetection/model/vgg16_fine_tuned/distracted-07-0.96.hdf5\n",
      "141/141 [==============================] - 1564s 11s/step - loss: 0.1411 - accuracy: 0.9619 - val_loss: 0.1278 - val_accuracy: 0.9641\n",
      "Epoch 8/25\n",
      "141/141 [==============================] - ETA: 0s - loss: 0.1178 - accuracy: 0.9705\n",
      "Epoch 8: val_accuracy improved from 0.96407 to 0.97166, saving model to /Users/abhjha8/ml_projects/DistractedDriverDetection/model/vgg16_fine_tuned/distracted-08-0.97.hdf5\n",
      "141/141 [==============================] - 1598s 11s/step - loss: 0.1178 - accuracy: 0.9705 - val_loss: 0.1108 - val_accuracy: 0.9717\n",
      "Epoch 9/25\n",
      "141/141 [==============================] - ETA: 0s - loss: 0.0939 - accuracy: 0.9759\n",
      "Epoch 9: val_accuracy improved from 0.97166 to 0.97478, saving model to /Users/abhjha8/ml_projects/DistractedDriverDetection/model/vgg16_fine_tuned/distracted-09-0.97.hdf5\n",
      "141/141 [==============================] - 1618s 11s/step - loss: 0.0939 - accuracy: 0.9759 - val_loss: 0.0950 - val_accuracy: 0.9748\n",
      "Epoch 10/25\n",
      "141/141 [==============================] - ETA: 0s - loss: 0.0770 - accuracy: 0.9807\n",
      "Epoch 10: val_accuracy did not improve from 0.97478\n",
      "141/141 [==============================] - 1573s 11s/step - loss: 0.0770 - accuracy: 0.9807 - val_loss: 0.0887 - val_accuracy: 0.9741\n",
      "Epoch 11/25\n",
      "141/141 [==============================] - ETA: 0s - loss: 0.0685 - accuracy: 0.9827 \n",
      "Epoch 11: val_accuracy improved from 0.97478 to 0.98170, saving model to /Users/abhjha8/ml_projects/DistractedDriverDetection/model/vgg16_fine_tuned/distracted-11-0.98.hdf5\n",
      "141/141 [==============================] - 2254s 16s/step - loss: 0.0685 - accuracy: 0.9827 - val_loss: 0.0729 - val_accuracy: 0.9817\n",
      "Epoch 12/25\n",
      "141/141 [==============================] - ETA: 0s - loss: 0.0639 - accuracy: 0.9830\n",
      "Epoch 12: val_accuracy did not improve from 0.98170\n",
      "141/141 [==============================] - 1668s 12s/step - loss: 0.0639 - accuracy: 0.9830 - val_loss: 0.0772 - val_accuracy: 0.9797\n",
      "Epoch 13/25\n",
      "141/141 [==============================] - ETA: 0s - loss: 0.0570 - accuracy: 0.9859\n",
      "Epoch 13: val_accuracy improved from 0.98170 to 0.98326, saving model to /Users/abhjha8/ml_projects/DistractedDriverDetection/model/vgg16_fine_tuned/distracted-13-0.98.hdf5\n",
      "141/141 [==============================] - 1683s 12s/step - loss: 0.0570 - accuracy: 0.9859 - val_loss: 0.0640 - val_accuracy: 0.9833\n",
      "Epoch 14/25\n",
      "141/141 [==============================] - ETA: 0s - loss: 0.0506 - accuracy: 0.9879\n",
      "Epoch 14: val_accuracy did not improve from 0.98326\n",
      "141/141 [==============================] - 1673s 12s/step - loss: 0.0506 - accuracy: 0.9879 - val_loss: 0.0640 - val_accuracy: 0.9826\n",
      "Epoch 15/25\n",
      "141/141 [==============================] - ETA: 0s - loss: 0.0479 - accuracy: 0.9883\n",
      "Epoch 15: val_accuracy did not improve from 0.98326\n",
      "141/141 [==============================] - 1652s 12s/step - loss: 0.0479 - accuracy: 0.9883 - val_loss: 0.0594 - val_accuracy: 0.9830\n",
      "Epoch 16/25\n",
      "141/141 [==============================] - ETA: 0s - loss: 0.0453 - accuracy: 0.9896\n",
      "Epoch 16: val_accuracy improved from 0.98326 to 0.98661, saving model to /Users/abhjha8/ml_projects/DistractedDriverDetection/model/vgg16_fine_tuned/distracted-16-0.99.hdf5\n",
      "141/141 [==============================] - 1555s 11s/step - loss: 0.0453 - accuracy: 0.9896 - val_loss: 0.0500 - val_accuracy: 0.9866\n",
      "Epoch 17/25\n",
      "141/141 [==============================] - ETA: 0s - loss: 0.0353 - accuracy: 0.9915\n",
      "Epoch 17: val_accuracy improved from 0.98661 to 0.98728, saving model to /Users/abhjha8/ml_projects/DistractedDriverDetection/model/vgg16_fine_tuned/distracted-17-0.99.hdf5\n",
      "141/141 [==============================] - 1869s 13s/step - loss: 0.0353 - accuracy: 0.9915 - val_loss: 0.0473 - val_accuracy: 0.9873\n",
      "Epoch 18/25\n",
      "141/141 [==============================] - ETA: 0s - loss: 0.0344 - accuracy: 0.9918 \n",
      "Epoch 18: val_accuracy improved from 0.98728 to 0.98951, saving model to /Users/abhjha8/ml_projects/DistractedDriverDetection/model/vgg16_fine_tuned/distracted-18-0.99.hdf5\n",
      "141/141 [==============================] - 2955s 21s/step - loss: 0.0344 - accuracy: 0.9918 - val_loss: 0.0410 - val_accuracy: 0.9895\n",
      "Epoch 19/25\n",
      "141/141 [==============================] - ETA: 0s - loss: 0.0304 - accuracy: 0.9932 \n",
      "Epoch 19: val_accuracy did not improve from 0.98951\n",
      "141/141 [==============================] - 2995s 21s/step - loss: 0.0304 - accuracy: 0.9932 - val_loss: 0.0393 - val_accuracy: 0.9895\n",
      "Epoch 20/25\n",
      "141/141 [==============================] - ETA: 0s - loss: 0.0270 - accuracy: 0.9934 \n",
      "Epoch 20: val_accuracy did not improve from 0.98951\n",
      "141/141 [==============================] - 2867s 20s/step - loss: 0.0270 - accuracy: 0.9934 - val_loss: 0.0467 - val_accuracy: 0.9877\n",
      "Epoch 21/25\n",
      "141/141 [==============================] - ETA: 0s - loss: 0.0267 - accuracy: 0.9933 \n",
      "Epoch 21: val_accuracy did not improve from 0.98951\n",
      "141/141 [==============================] - 2848s 20s/step - loss: 0.0267 - accuracy: 0.9933 - val_loss: 0.0440 - val_accuracy: 0.9879\n",
      "Epoch 22/25\n",
      "141/141 [==============================] - ETA: 0s - loss: 0.0251 - accuracy: 0.9938 \n",
      "Epoch 22: val_accuracy did not improve from 0.98951\n",
      "141/141 [==============================] - 2101s 15s/step - loss: 0.0251 - accuracy: 0.9938 - val_loss: 0.0400 - val_accuracy: 0.9882\n",
      "Epoch 23/25\n",
      "141/141 [==============================] - ETA: 0s - loss: 0.0240 - accuracy: 0.9944\n",
      "Epoch 23: val_accuracy improved from 0.98951 to 0.99063, saving model to /Users/abhjha8/ml_projects/DistractedDriverDetection/model/vgg16_fine_tuned/distracted-23-0.99.hdf5\n",
      "141/141 [==============================] - 1571s 11s/step - loss: 0.0240 - accuracy: 0.9944 - val_loss: 0.0365 - val_accuracy: 0.9906\n"
     ]
    },
    {
     "name": "stdout",
     "output_type": "stream",
     "text": [
      "Epoch 24/25\n",
      "141/141 [==============================] - ETA: 0s - loss: 0.0222 - accuracy: 0.9943\n",
      "Epoch 24: val_accuracy improved from 0.99063 to 0.99130, saving model to /Users/abhjha8/ml_projects/DistractedDriverDetection/model/vgg16_fine_tuned/distracted-24-0.99.hdf5\n",
      "141/141 [==============================] - 1597s 11s/step - loss: 0.0222 - accuracy: 0.9943 - val_loss: 0.0321 - val_accuracy: 0.9913\n",
      "Epoch 25/25\n",
      "141/141 [==============================] - ETA: 0s - loss: 0.0214 - accuracy: 0.9951\n",
      "Epoch 25: val_accuracy did not improve from 0.99130\n",
      "141/141 [==============================] - 1596s 11s/step - loss: 0.0214 - accuracy: 0.9951 - val_loss: 0.0298 - val_accuracy: 0.9911\n"
     ]
    }
   ],
   "source": [
    "model_history = vgg16_model_fine_tuned.fit(train_data,validation_data = valid_data,epochs=NUM_EPOCHS, shuffle=True,callbacks=callbacks_list)"
   ]
  },
  {
   "cell_type": "code",
   "execution_count": 15,
   "metadata": {},
   "outputs": [
    {
     "data": {
      "image/png": "[encoded data removed]",
      "text/plain": [
       "<Figure size 1200x1200 with 2 Axes>"
      ]
     },
     "metadata": {},
     "output_type": "display_data"
    }
   ],
   "source": [
    "fig, (ax1, ax2) = plt.subplots(2, 1, figsize=(12, 12))\n",
    "ax1.plot(model_history.history['loss'], color='b', label=\"Training loss\")\n",
    "ax1.plot(model_history.history['val_loss'], color='r', label=\"validation loss\")\n",
    "ax1.set_xticks(np.arange(1, 25, 1))\n",
    "ax1.set_yticks(np.arange(0, 1, 0.1))\n",
    "\n",
    "ax2.plot(model_history.history['accuracy'], color='b', label=\"Training accuracy\")\n",
    "ax2.plot(model_history.history['val_accuracy'], color='r',label=\"Validation accuracy\")\n",
    "ax2.set_xticks(np.arange(1, 25, 1))\n",
    "\n",
    "legend = plt.legend(loc='best', shadow=True)\n",
    "plt.tight_layout()\n",
    "plt.show()"
   ]
  },
  {
   "cell_type": "code",
   "execution_count": null,
   "metadata": {},
   "outputs": [],
   "source": []
  }
 ],
 "metadata": {
  "kernelspec": {
   "display_name": "Python 3 (ipykernel)",
   "language": "python",
   "name": "python3"
  },
  "language_info": {
   "codemirror_mode": {
    "name": "ipython",
    "version": 3
   },
   "file_extension": ".py",
   "mimetype": "text/x-python",
   "name": "python",
   "nbconvert_exporter": "python",
   "pygments_lexer": "ipython3",
   "version": "3.10.9"
  }
 },
 "nbformat": 4,
 "nbformat_minor": 4
}
