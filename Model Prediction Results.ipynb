{
 "cells": [
  {
   "cell_type": "markdown",
   "metadata": {},
   "source": [
    "# MODEL PREDICTION\n",
    "\n",
    "We will predict the results of prediction on the test images provided in the competition using the best models generated from each of the following approaches "
   ]
  },
  {
   "cell_type": "markdown",
   "metadata": {},
   "source": [
    "Approaches followed for model creation\n",
    "1. Creating the Self designned CNN from scratch \n",
    "2. Using the Vgg16 architecture as a base and fine tuning the last layer"
   ]
  },
  {
   "cell_type": "code",
   "execution_count": 1,
   "metadata": {
    "scrolled": true
   },
   "outputs": [
    {
     "name": "stderr",
     "output_type": "stream",
     "text": [
      "Using TensorFlow backend.\n"
     ]
    }
   ],
   "source": [
    "import os\n",
    "import json\n",
    "from keras.models import load_model\n",
    "import pandas as pd\n",
    "import pickle\n",
    "import numpy as np\n",
    "import shutil\n",
    "\n",
    "from keras.preprocessing import image                  \n",
    "from tqdm.notebook import tqdm\n",
    "from PIL import ImageFile                            \n"
   ]
  },
  {
   "cell_type": "code",
   "execution_count": 2,
   "metadata": {},
   "outputs": [],
   "source": [
    "BASE_MODEL_PATH = os.path.join(os.getcwd(),\"model\")\n",
    "TEST_DIR = os.path.join(os.getcwd(),\"csv_files\",\"test.csv\")\n",
    "PREDICT_DIR = os.path.join(os.getcwd(),\"pred_dir\")\n",
    "PICKLE_DIR = os.path.join(os.getcwd(),\"pickle_files\")\n",
    "JSON_DIR = os.path.join(os.getcwd(),\"json_files\")"
   ]
  },
  {
   "cell_type": "code",
   "execution_count": 3,
   "metadata": {},
   "outputs": [],
   "source": [
    "if not os.path.exists(PREDICT_DIR):\n",
    "    os.makedirs(PREDICT_DIR)\n",
    "else:\n",
    "    shutil.rmtree(PREDICT_DIR)\n",
    "    os.makedirs(PREDICT_DIR)\n",
    "if not os.path.exists(JSON_DIR):\n",
    "    os.makedirs(JSON_DIR)"
   ]
  },
  {
   "cell_type": "markdown",
   "metadata": {},
   "source": [
    "# Prediction using-->Self Trained Model (CNN Scratch)"
   ]
  },
  {
   "cell_type": "code",
   "execution_count": 4,
   "metadata": {},
   "outputs": [
    {
     "name": "stdout",
     "output_type": "stream",
     "text": [
      "Model: \"sequential_1\"\n",
      "_________________________________________________________________\n",
      "Layer (type)                 Output Shape              Param #   \n",
      "=================================================================\n",
      "conv2d_1 (Conv2D)            (None, 64, 64, 64)        832       \n",
      "_________________________________________________________________\n",
      "max_pooling2d_1 (MaxPooling2 (None, 32, 32, 64)        0         \n",
      "_________________________________________________________________\n",
      "conv2d_2 (Conv2D)            (None, 32, 32, 128)       32896     \n",
      "_________________________________________________________________\n",
      "max_pooling2d_2 (MaxPooling2 (None, 16, 16, 128)       0         \n",
      "_________________________________________________________________\n",
      "conv2d_3 (Conv2D)            (None, 16, 16, 256)       131328    \n",
      "_________________________________________________________________\n",
      "max_pooling2d_3 (MaxPooling2 (None, 8, 8, 256)         0         \n",
      "_________________________________________________________________\n",
      "conv2d_4 (Conv2D)            (None, 8, 8, 512)         524800    \n",
      "_________________________________________________________________\n",
      "max_pooling2d_4 (MaxPooling2 (None, 4, 4, 512)         0         \n",
      "_________________________________________________________________\n",
      "dropout_1 (Dropout)          (None, 4, 4, 512)         0         \n",
      "_________________________________________________________________\n",
      "flatten_1 (Flatten)          (None, 8192)              0         \n",
      "_________________________________________________________________\n",
      "dense_1 (Dense)              (None, 500)               4096500   \n",
      "_________________________________________________________________\n",
      "dropout_2 (Dropout)          (None, 500)               0         \n",
      "_________________________________________________________________\n",
      "dense_2 (Dense)              (None, 10)                5010      \n",
      "=================================================================\n",
      "Total params: 4,791,366\n",
      "Trainable params: 4,791,366\n",
      "Non-trainable params: 0\n",
      "_________________________________________________________________\n"
     ]
    }
   ],
   "source": [
    "BEST_MODEL = os.path.join(BASE_MODEL_PATH,\"self_trained\",\"distracted-19-0.99.hdf5\")\n",
    "model = load_model(BEST_MODEL)\n",
    "model.summary()"
   ]
  },
  {
   "cell_type": "code",
   "execution_count": 5,
   "metadata": {},
   "outputs": [
    {
     "name": "stdout",
     "output_type": "stream",
     "text": [
      "<class 'pandas.core.frame.DataFrame'>\n",
      "RangeIndex: 10000 entries, 0 to 9999\n",
      "Data columns (total 2 columns):\n",
      " #   Column     Non-Null Count  Dtype \n",
      "---  ------     --------------  ----- \n",
      " 0   FileName   10000 non-null  object\n",
      " 1   ClassName  10000 non-null  object\n",
      "dtypes: object(2)\n",
      "memory usage: 156.4+ KB\n"
     ]
    }
   ],
   "source": [
    "data_test = pd.read_csv(os.path.join(TEST_DIR))\n",
    "#testing on the only 10000 images as loading the all test images requires ram>8gb\n",
    "data_test = data_test[:10000] \n",
    "data_test.info()"
   ]
  },
  {
   "cell_type": "code",
   "execution_count": 6,
   "metadata": {},
   "outputs": [
    {
     "name": "stdout",
     "output_type": "stream",
     "text": [
      "{'c2': 0, 'c9': 1, 'c4': 2, 'c7': 3, 'c1': 4, 'c5': 5, 'c0': 6, 'c8': 7, 'c3': 8, 'c6': 9}\n"
     ]
    }
   ],
   "source": [
    "with open(os.path.join(PICKLE_DIR,\"labels_list.pkl\"),\"rb\") as handle:\n",
    "    labels_id = pickle.load(handle)\n",
    "print(labels_id)\n",
    "# labels_id = {'c1': 0, 'c6': 1, 'c5': 2, 'c8': 3, 'c3': 4, 'c0': 5, 'c7': 6, 'c2': 7, 'c4': 8, 'c9': 9}"
   ]
  },
  {
   "cell_type": "code",
   "execution_count": 7,
   "metadata": {},
   "outputs": [
    {
     "data": {
      "application/vnd.jupyter.widget-view+json": {
       "model_id": "b7fbd94bb5394dad81ebbe08fabb5904",
       "version_major": 2,
       "version_minor": 0
      },
      "text/plain": [
       "HBox(children=(FloatProgress(value=0.0, max=10000.0), HTML(value='')))"
      ]
     },
     "metadata": {},
     "output_type": "display_data"
    },
    {
     "name": "stdout",
     "output_type": "stream",
     "text": [
      "\n"
     ]
    }
   ],
   "source": [
    "def path_to_tensor(img_path):\n",
    "    # loads RGB image as PIL.Image.Image type\n",
    "    img = image.load_img(img_path, target_size=(64, 64))\n",
    "    # convert PIL.Image.Image type to 3D tensor with shape (224, 224, 3)\n",
    "    x = image.img_to_array(img)\n",
    "    # convert 3D tensor to 4D tensor with shape (1, 224, 224, 3) and return 4D tensor\n",
    "    return np.expand_dims(x, axis=0)\n",
    "\n",
    "def paths_to_tensor(img_paths):\n",
    "    list_of_tensors = [path_to_tensor(img_path) for img_path in tqdm(img_paths)]\n",
    "    return np.vstack(list_of_tensors)\n",
    "\n",
    "ImageFile.LOAD_TRUNCATED_IMAGES = True  \n",
    "test_tensors = paths_to_tensor(data_test.iloc[:,0]).astype('float32')/255 - 0.5"
   ]
  },
  {
   "cell_type": "code",
   "execution_count": 8,
   "metadata": {},
   "outputs": [
    {
     "name": "stdout",
     "output_type": "stream",
     "text": [
      "10000/10000 [==============================] - 29s 3ms/step\n",
      "{0: 'c2', 1: 'c9', 2: 'c4', 3: 'c7', 4: 'c1', 5: 'c5', 6: 'c0', 7: 'c8', 8: 'c3', 9: 'c6'}\n"
     ]
    }
   ],
   "source": [
    "ypred_test = model.predict(test_tensors,verbose=1)\n",
    "ypred_class = np.argmax(ypred_test,axis=1)\n",
    "\n",
    "id_labels = dict()\n",
    "for class_name,idx in labels_id.items():\n",
    "    id_labels[idx] = class_name\n",
    "print(id_labels)\n",
    "\n",
    "for i in range(data_test.shape[0]):\n",
    "    data_test.iloc[i,1] = id_labels[ypred_class[i]]"
   ]
  },
  {
   "cell_type": "code",
   "execution_count": 9,
   "metadata": {},
   "outputs": [],
   "source": [
    "#to create a human readable and understandable class_name \n",
    "class_name = dict()\n",
    "class_name[\"c0\"] = \"SAFE_DRIVING\"\n",
    "class_name[\"c1\"] = \"TEXTING_RIGHT\"\n",
    "class_name[\"c2\"] = \"TALKING_PHONE_RIGHT\"\n",
    "class_name[\"c3\"] = \"TEXTING_LEFT\"\n",
    "class_name[\"c4\"] = \"TALKING_PHONE_LEFT\"\n",
    "class_name[\"c5\"] = \"OPERATING_RADIO\"\n",
    "class_name[\"c6\"] = \"DRINKING\"\n",
    "class_name[\"c7\"] = \"REACHING_BEHIND\"\n",
    "class_name[\"c8\"] = \"HAIR_AND_MAKEUP\"\n",
    "class_name[\"c9\"] = \"TALKING_TO_PASSENGER\"\n",
    "\n",
    "\n",
    "with open(os.path.join(JSON_DIR,'class_name_map.json'),'w') as secret_input:\n",
    "    json.dump(class_name,secret_input,indent=4,sort_keys=True)\n"
   ]
  },
  {
   "cell_type": "code",
   "execution_count": 10,
   "metadata": {},
   "outputs": [],
   "source": [
    "# creating the prediction results for the image classification and shifting the predicted images to another folder\n",
    "#with renamed filename having the class name predicted for that image using model\n",
    "with open(os.path.join(JSON_DIR,'class_name_map.json')) as secret_input:\n",
    "    info = json.load(secret_input)\n",
    "\n",
    "\n",
    "for i in range(data_test.shape[0]):\n",
    "    new_name = data_test.iloc[i,0].split(\"/\")[-1].split(\".\")[0]+\"_\"+info[data_test.iloc[i,1]]+\".jpg\"\n",
    "    shutil.copy(data_test.iloc[i,0],os.path.join(PREDICT_DIR,new_name))\n",
    "    \n",
    "#saving the model predicted results into a csv file\n",
    "data_test.to_csv(os.path.join(os.getcwd(),\"csv_files\",\"short_test_result.csv\"),index=False)"
   ]
  },
  {
   "cell_type": "code",
   "execution_count": null,
   "metadata": {},
   "outputs": [],
   "source": []
  }
 ],
 "metadata": {
  "kernelspec": {
   "display_name": "Python 3",
   "language": "python",
   "name": "python3"
  },
  "language_info": {
   "codemirror_mode": {
    "name": "ipython",
    "version": 3
   },
   "file_extension": ".py",
   "mimetype": "text/x-python",
   "name": "python",
   "nbconvert_exporter": "python",
   "pygments_lexer": "ipython3",
   "version": "3.7.7"
  }
 },
 "nbformat": 4,
 "nbformat_minor": 4
}
